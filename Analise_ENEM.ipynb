{
  "cells": [
    {
      "cell_type": "markdown",
      "metadata": {
        "id": "view-in-github",
        "colab_type": "text"
      },
      "source": [
        "<a href=\"https://colab.research.google.com/github/fabianoacastro/ProjetoFinal/blob/main/Analise_ENEM.ipynb\" target=\"_parent\"><img src=\"https://colab.research.google.com/assets/colab-badge.svg\" alt=\"Open In Colab\"/></a>"
      ]
    },
    {
      "cell_type": "markdown",
      "source": [
        "# Setup Geral\n",
        "\n",
        "Se estiver executando este exercício no Google Colab, execute as próximas duas células. \n",
        "\n",
        "Caso esteja executando localmente, não é necessário executar mas certifique-se de que o **pyspark** está instalado e configurado em sua máquina."
      ],
      "metadata": {
        "id": "LVSy2BqsaSkj",
        "application/vnd.databricks.v1+cell": {
          "showTitle": false,
          "cellMetadata": {},
          "nuid": "b2622542-7b73-43e1-a5d8-1fd867f4edde",
          "inputWidgets": {},
          "title": ""
        }
      }
    },
    {
      "cell_type": "code",
      "source": [
        "%%bash\n",
        "\n",
        "# Instal Java\n",
        "apt-get update && apt-get install openjdk-8-jdk-headless -qq > /dev/null\n",
        "\n",
        "# Install PySpark\n",
        "pip install -q pyspark"
      ],
      "metadata": {
        "id": "NHPXuknHZ5Az",
        "application/vnd.databricks.v1+cell": {
          "showTitle": false,
          "cellMetadata": {},
          "nuid": "1822ad2d-a33e-4acb-b32a-5485facf2119",
          "inputWidgets": {},
          "title": ""
        },
        "colab": {
          "base_uri": "https://localhost:8080/"
        },
        "outputId": "ab7797ad-a2ac-4290-f13b-f12f707f4978"
      },
      "outputs": [
        {
          "output_type": "stream",
          "name": "stdout",
          "text": [
            "Hit:1 https://cloud.r-project.org/bin/linux/ubuntu bionic-cran40/ InRelease\n",
            "Ign:2 https://developer.download.nvidia.com/compute/machine-learning/repos/ubuntu1804/x86_64  InRelease\n",
            "Hit:3 https://developer.download.nvidia.com/compute/cuda/repos/ubuntu1804/x86_64  InRelease\n",
            "Hit:4 http://archive.ubuntu.com/ubuntu bionic InRelease\n",
            "Hit:5 https://developer.download.nvidia.com/compute/machine-learning/repos/ubuntu1804/x86_64  Release\n",
            "Get:6 http://archive.ubuntu.com/ubuntu bionic-updates InRelease [88.7 kB]\n",
            "Get:7 http://security.ubuntu.com/ubuntu bionic-security InRelease [88.7 kB]\n",
            "Hit:8 http://ppa.launchpad.net/c2d4u.team/c2d4u4.0+/ubuntu bionic InRelease\n",
            "Get:9 http://archive.ubuntu.com/ubuntu bionic-backports InRelease [83.3 kB]\n",
            "Hit:10 http://ppa.launchpad.net/cran/libgit2/ubuntu bionic InRelease\n",
            "Hit:11 http://ppa.launchpad.net/deadsnakes/ppa/ubuntu bionic InRelease\n",
            "Hit:13 http://ppa.launchpad.net/graphics-drivers/ppa/ubuntu bionic InRelease\n",
            "Fetched 261 kB in 3s (99.3 kB/s)\n",
            "Reading package lists...\n"
          ]
        }
      ],
      "execution_count": null
    },
    {
      "cell_type": "code",
      "source": [
        "import os\n",
        "os.environ['JAVA_HOME'] = '/usr/lib/jvm/java-8-openjdk-amd64'\n",
        "\n",
        "from pyspark.sql import SparkSession\n",
        "\n",
        "spark = SparkSession.builder.master(\"local[*]\").getOrCreate()"
      ],
      "metadata": {
        "id": "4dY12q0raXtc",
        "application/vnd.databricks.v1+cell": {
          "showTitle": false,
          "cellMetadata": {},
          "nuid": "fb8d1bb3-2a71-4955-a4f4-db8026ea4672",
          "inputWidgets": {},
          "title": ""
        }
      },
      "outputs": [],
      "execution_count": null
    },
    {
      "cell_type": "code",
      "source": [
        "# Setup Spark Session\n",
        "from pyspark.sql import SparkSession\n",
        "spark = SparkSession.builder.appName(\"AtividadeSQL\").getOrCreate()"
      ],
      "metadata": {
        "id": "kHkTwPZmfV2t",
        "application/vnd.databricks.v1+cell": {
          "showTitle": false,
          "cellMetadata": {},
          "nuid": "22ced3da-615e-41f5-8e69-cc1644237641",
          "inputWidgets": {},
          "title": ""
        }
      },
      "outputs": [],
      "execution_count": null
    },
    {
      "cell_type": "markdown",
      "source": [
        "##Ponto de Montagem Google Drive"
      ],
      "metadata": {
        "id": "sisQJjOIvctf"
      }
    },
    {
      "cell_type": "code",
      "source": [
        "from google.colab import drive\n",
        "drive.mount('/content/drive')"
      ],
      "metadata": {
        "colab": {
          "base_uri": "https://localhost:8080/"
        },
        "id": "_EplqpCiVk5i",
        "outputId": "cf957926-a2c2-4c3a-8053-1197410c4065"
      },
      "execution_count": null,
      "outputs": [
        {
          "output_type": "stream",
          "name": "stdout",
          "text": [
            "Drive already mounted at /content/drive; to attempt to forcibly remount, call drive.mount(\"/content/drive\", force_remount=True).\n"
          ]
        }
      ]
    },
    {
      "cell_type": "markdown",
      "source": [
        "##Leitura de diretorio razi"
      ],
      "metadata": {
        "id": "3588TbnlvkE5"
      }
    },
    {
      "cell_type": "code",
      "source": [
        "%%bash\n",
        "\n",
        "ls /content"
      ],
      "metadata": {
        "colab": {
          "base_uri": "https://localhost:8080/"
        },
        "id": "SWCLZlCKrx2O",
        "outputId": "111beb45-d32a-4506-dec6-b3468e3af4bc"
      },
      "execution_count": null,
      "outputs": [
        {
          "output_type": "stream",
          "name": "stdout",
          "text": [
            "Dicionário_Microdados_Enem_2020.xlsx\n",
            "drive\n",
            "group_enem.csv\n",
            "MICRODADOS_ENEM_2020.csv\n",
            "sample_data\n"
          ]
        }
      ]
    },
    {
      "cell_type": "markdown",
      "source": [
        "##Descompactar arquivo ZIP com dados ENEM"
      ],
      "metadata": {
        "id": "QyHBbR02voXn"
      }
    },
    {
      "cell_type": "code",
      "source": [
        "from zipfile import ZipFile\n",
        "\n",
        "z = ZipFile('/content/drive/MyDrive/DADOS/MICRODADOS_ENEM_2020.zip', 'r')\n",
        "z.extractall()"
      ],
      "metadata": {
        "id": "ge8Q4zJ-p6BD"
      },
      "execution_count": null,
      "outputs": []
    },
    {
      "cell_type": "markdown",
      "source": [
        "##Carregar Dataframe df com dado ENEM"
      ],
      "metadata": {
        "id": "25vqAJhDwHf9"
      }
    },
    {
      "cell_type": "code",
      "source": [
        "from pyspark.sql.functions import col\n",
        "\n",
        "path = '/content/MICRODADOS_ENEM_2020.csv'\n",
        "df = spark.read.options(header=\"True\",inferSchema='True',delimiter=';') \\\n",
        "          .csv(path)\n",
        "df = df.select(\"TP_FAIXA_ETARIA\",\"TP_SEXO\",\"TP_ESTADO_CIVIL\",\"TP_COR_RACA\",\"IN_TREINEIRO\")\n",
        "df = df.withColumn(\"IN_TREINEIRO\",col(\"IN_TREINEIRO\").cast(\"String\"))\n"
      ],
      "metadata": {
        "id": "TmvLPdqzw4Mm"
      },
      "execution_count": null,
      "outputs": []
    },
    {
      "cell_type": "code",
      "source": [
        "df.show(5)"
      ],
      "metadata": {
        "colab": {
          "base_uri": "https://localhost:8080/"
        },
        "id": "KyRV7LcQ15Qn",
        "outputId": "54376d1f-b1f2-4de0-e6f2-6864e0998a70"
      },
      "execution_count": null,
      "outputs": [
        {
          "output_type": "stream",
          "name": "stdout",
          "text": [
            "+---------------+-------+---------------+-----------+------------+\n",
            "|TP_FAIXA_ETARIA|TP_SEXO|TP_ESTADO_CIVIL|TP_COR_RACA|IN_TREINEIRO|\n",
            "+---------------+-------+---------------+-----------+------------+\n",
            "|             11|      F|              1|          2|           0|\n",
            "|             11|      M|              2|          3|           0|\n",
            "|              4|      F|              2|          3|           0|\n",
            "|              2|      M|              1|          3|           0|\n",
            "|              4|      F|              1|          3|           0|\n",
            "+---------------+-------+---------------+-----------+------------+\n",
            "only showing top 5 rows\n",
            "\n"
          ]
        }
      ]
    },
    {
      "cell_type": "markdown",
      "source": [
        "## Carregar Dicionario Faixa Etária com dados excel utilizando pandas"
      ],
      "metadata": {
        "id": "_zjrh9HSwSKf"
      }
    },
    {
      "cell_type": "code",
      "source": [
        "import pandas\n",
        "\n",
        "df_dict = pandas.read_excel('/content/Dicionário_Microdados_Enem_2020.xlsx', sheet_name='MICRODADOS_ENEM_2020', skiprows=6)\n"
      ],
      "metadata": {
        "id": "1JqkZ5NzpYug"
      },
      "execution_count": null,
      "outputs": []
    },
    {
      "cell_type": "code",
      "source": [
        "df_dict = df_dict.iloc[:,[2,3]][:20]\n",
        "df_pd = spark.createDataFrame(df_dict)"
      ],
      "metadata": {
        "id": "BAvDhIMRu9yo"
      },
      "execution_count": null,
      "outputs": []
    },
    {
      "cell_type": "code",
      "source": [
        "df_pd = df_pd.withColumnRenamed(\"Unnamed: 2\",\"TP_FAIXA_ETARIA\") \\\n",
        "            .withColumnRenamed(\"Unnamed: 3\",\"FAIXA_ETARIA\")\n",
        "df_pd.show()"
      ],
      "metadata": {
        "colab": {
          "base_uri": "https://localhost:8080/"
        },
        "id": "HEEc01xgsKav",
        "outputId": "a89d0df7-fa60-4102-acfd-cb09f157fa1b"
      },
      "execution_count": null,
      "outputs": [
        {
          "output_type": "stream",
          "name": "stdout",
          "text": [
            "+---------------+------------------+\n",
            "|TP_FAIXA_ETARIA|      FAIXA_ETARIA|\n",
            "+---------------+------------------+\n",
            "|              1|  Menor de 17 anos|\n",
            "|              2|           17 anos|\n",
            "|              3|           18 anos|\n",
            "|              4|           19 anos|\n",
            "|              5|           20 anos|\n",
            "|              6|           21 anos|\n",
            "|              7|           22 anos|\n",
            "|              8|           23 anos|\n",
            "|              9|           24 anos|\n",
            "|             10|           25 anos|\n",
            "|             11|Entre 26 e 30 anos|\n",
            "|             12|Entre 31 e 35 anos|\n",
            "|             13|Entre 36 e 40 anos|\n",
            "|             14|Entre 41 e 45 anos|\n",
            "|             15|Entre 46 e 50 anos|\n",
            "|             16|Entre 51 e 55 anos|\n",
            "|             17|Entre 56 e 60 anos|\n",
            "|             18|Entre 61 e 65 anos|\n",
            "|             19|Entre 66 e 70 anos|\n",
            "|             20|  Maior de 70 anos|\n",
            "+---------------+------------------+\n",
            "\n"
          ]
        }
      ]
    },
    {
      "cell_type": "markdown",
      "source": [
        "###Relacionar dados do dicionário de faixa etária com dados ENEM"
      ],
      "metadata": {
        "id": "d7p6GNaRwhub"
      }
    },
    {
      "cell_type": "code",
      "source": [
        "df_join = df.join(df_pd,df_pd.TP_FAIXA_ETARIA == df.TP_FAIXA_ETARIA, 'inner')\n",
        "\n",
        "df_join = df_join.select(df_pd.FAIXA_ETARIA,df.TP_SEXO,df.TP_ESTADO_CIVIL,df.TP_COR_RACA,df.IN_TREINEIRO)"
      ],
      "metadata": {
        "id": "rRwlWgN-2AWc"
      },
      "execution_count": null,
      "outputs": []
    },
    {
      "cell_type": "markdown",
      "source": [
        "%md\n",
        "#### Apresentar dados por sexo e faixa etaria"
      ],
      "metadata": {
        "id": "9LH-ccJNx15d"
      }
    },
    {
      "cell_type": "code",
      "source": [
        "#df_group = df_join.groupBy(df_pd.FAIXA_ETARIA,df.TP_SEXO).count()\n",
        "df_group = df_join.groupBy(df_pd.FAIXA_ETARIA).count()\n",
        "df_group.sort(df_group.FAIXA_ETARIA).show(5)\n",
        "var_faixa = df_group.select(\"FAIXA_ETARIA\").rdd.flatMap(lambda x: x).collect()\n",
        "var_num = df_group.select(\"count\").rdd.flatMap(lambda x: x).collect()"
      ],
      "metadata": {
        "colab": {
          "base_uri": "https://localhost:8080/"
        },
        "id": "mhTEM2SJRFqL",
        "outputId": "246fb851-bd5d-4fb9-abf5-483187a421f1"
      },
      "execution_count": null,
      "outputs": [
        {
          "output_type": "stream",
          "name": "stdout",
          "text": [
            "+------------+------+\n",
            "|FAIXA_ETARIA| count|\n",
            "+------------+------+\n",
            "|     17 anos|775404|\n",
            "|     18 anos|887715|\n",
            "|     19 anos|609450|\n",
            "|     20 anos|459606|\n",
            "|     21 anos|353734|\n",
            "+------------+------+\n",
            "only showing top 5 rows\n",
            "\n"
          ]
        }
      ]
    },
    {
      "cell_type": "code",
      "source": [
        "print(var_faixa)\n",
        "print(var_num)"
      ],
      "metadata": {
        "colab": {
          "base_uri": "https://localhost:8080/"
        },
        "id": "sUIcSJ52HAhN",
        "outputId": "8d6d03be-0419-44a1-e4d1-2780df0d5cce"
      },
      "execution_count": null,
      "outputs": [
        {
          "output_type": "stream",
          "name": "stdout",
          "text": [
            "['20 anos', '21 anos', 'Entre 46 e 50 anos', 'Entre 56 e 60 anos', '24 anos', '25 anos', 'Entre 61 e 65 anos', '22 anos', 'Menor de 17 anos', '18 anos', 'Entre 36 e 40 anos', '23 anos', 'Entre 26 e 30 anos', 'Entre 41 e 45 anos', 'Entre 31 e 35 anos', 'Maior de 70 anos', '19 anos', 'Entre 66 e 70 anos', 'Entre 51 e 55 anos', '17 anos']\n",
            "[459606, 353734, 86079, 22383, 204689, 177344, 8144, 274709, 336805, 887715, 235027, 239812, 575442, 143795, 341808, 931, 609450, 2693, 47539, 775404]\n"
          ]
        }
      ]
    },
    {
      "cell_type": "markdown",
      "source": [
        "##### Apresentar Grafico Faixa Etária"
      ],
      "metadata": {
        "id": "kTetq7p8GV_a"
      }
    },
    {
      "cell_type": "code",
      "source": [
        "import matplotlib.pyplot as plt\n",
        "\n",
        "plt.barh(var_faixa,var_num)\n",
        "\n",
        "plt.ylabel('Qtde')\n",
        "\n",
        "plt.xlabel('Faixa Etária')\n",
        "\n",
        "plt.title('Participantes do Enem por Faixa Etária')\n",
        "\n",
        "plt.show()"
      ],
      "metadata": {
        "colab": {
          "base_uri": "https://localhost:8080/",
          "height": 295
        },
        "id": "MGMqWm13GUBF",
        "outputId": "8faa6828-1885-44b5-e072-d823318608ab"
      },
      "execution_count": null,
      "outputs": [
        {
          "output_type": "display_data",
          "data": {
            "text/plain": [
              "<Figure size 432x288 with 1 Axes>"
            ],
            "image/png": "[encoded data removed]"
          },
          "metadata": {
            "needs_background": "light"
          }
        }
      ]
    },
    {
      "cell_type": "markdown",
      "source": [
        "## Carregar Dicionario Raça com dados excel utilizando pandas"
      ],
      "metadata": {
        "id": "Dk82aLvC4lhZ"
      }
    },
    {
      "cell_type": "code",
      "source": [
        "import pandas\n",
        "\n",
        "df_dictraca = pandas.read_excel('/content/Dicionário_Microdados_Enem_2020.xlsx', sheet_name='MICRODADOS_ENEM_2020', skiprows=33)\n",
        "df_pdraca = df_dictraca.iloc[:,[2,3]][:6]\n",
        "df_pdraca = spark.createDataFrame(df_pdraca)"
      ],
      "metadata": {
        "id": "2mzlDKC14t7p"
      },
      "execution_count": null,
      "outputs": []
    },
    {
      "cell_type": "code",
      "source": [
        "df_pdraca = df_pdraca.withColumnRenamed(\"4\",\"TP_COR_RACA\") \\\n",
        "            .withColumnRenamed(\"Viúvo(a)\",\"RACA\")\n",
        "df_pdraca.show()"
      ],
      "metadata": {
        "colab": {
          "base_uri": "https://localhost:8080/"
        },
        "id": "5jh4mpM45x1A",
        "outputId": "57841c3f-47c9-45c9-a070-6e720044a722"
      },
      "execution_count": null,
      "outputs": [
        {
          "output_type": "stream",
          "name": "stdout",
          "text": [
            "+-----------+-------------+\n",
            "|TP_COR_RACA|         RACA|\n",
            "+-----------+-------------+\n",
            "|          0|Não declarado|\n",
            "|          1|       Branca|\n",
            "|          2|        Preta|\n",
            "|          3|        Parda|\n",
            "|          4|      Amarela|\n",
            "|          5|    Indígena |\n",
            "+-----------+-------------+\n",
            "\n"
          ]
        }
      ]
    },
    {
      "cell_type": "markdown",
      "source": [
        "###Relacionar dados do dicionário de Raça com dados ENEM"
      ],
      "metadata": {
        "id": "CD1vIRjU66Pc"
      }
    },
    {
      "cell_type": "code",
      "source": [
        "df_join = df.join(df_pdraca,df_pdraca.TP_COR_RACA == df.TP_COR_RACA, 'inner')\n",
        "\n",
        "df_join = df_join.select(df_pdraca.RACA,df.TP_SEXO,df.TP_ESTADO_CIVIL,df.TP_COR_RACA,df.IN_TREINEIRO)"
      ],
      "metadata": {
        "id": "BdR3MbHv62SS"
      },
      "execution_count": null,
      "outputs": []
    },
    {
      "cell_type": "markdown",
      "source": [
        "#### Apresentar dados por Raça"
      ],
      "metadata": {
        "id": "Yi1NpdPm8Rj_"
      }
    },
    {
      "cell_type": "markdown",
      "source": [
        "##### Carregar Listas"
      ],
      "metadata": {
        "id": "8VEwoYUvFsRP"
      }
    },
    {
      "cell_type": "code",
      "source": [
        "df_group = df_join.groupBy(df_pdraca.RACA).count()\n",
        "var_raca = df_group.select(\"RACA\").rdd.flatMap(lambda x: x).collect()\n",
        "var_num = df_group.select(\"count\").rdd.flatMap(lambda x: x).collect()\n"
      ],
      "metadata": {
        "id": "t5uCjx_E-Ejj"
      },
      "execution_count": null,
      "outputs": []
    },
    {
      "cell_type": "code",
      "source": [
        "print(var_raca)\n",
        "print(var_num)"
      ],
      "metadata": {
        "colab": {
          "base_uri": "https://localhost:8080/"
        },
        "id": "T21fktqaANtq",
        "outputId": "c9a2c7de-10c3-4ee2-cfbe-72e8bb6cf007"
      },
      "execution_count": null,
      "outputs": [
        {
          "output_type": "stream",
          "name": "stdout",
          "text": [
            "['Não declarado', 'Preta', 'Amarela', 'Branca', 'Indígena ', 'Parda']\n",
            "[116883, 771740, 128522, 2007633, 37846, 2720485]\n"
          ]
        }
      ]
    },
    {
      "cell_type": "markdown",
      "source": [
        "##### Apresentar Gráfico Raça"
      ],
      "metadata": {
        "id": "TjKTAt8zFyoF"
      }
    },
    {
      "cell_type": "code",
      "source": [
        "import matplotlib.pyplot as plt\n",
        "\n",
        "plt.bar(var_raca,var_num)\n",
        "\n",
        "plt.ylabel('Qtde')\n",
        "\n",
        "plt.xlabel('Raça')\n",
        "\n",
        "plt.title('Participantes do Enem por Raça')\n",
        "\n",
        "plt.show()"
      ],
      "metadata": {
        "colab": {
          "base_uri": "https://localhost:8080/",
          "height": 296
        },
        "id": "bg2X5otO9B_g",
        "outputId": "652371f2-468a-42b2-df4b-9bf87ca82893"
      },
      "execution_count": null,
      "outputs": [
        {
          "output_type": "display_data",
          "data": {
            "text/plain": [
              "<Figure size 432x288 with 1 Axes>"
            ],
            "image/png": "[encoded data removed]"
          },
          "metadata": {
            "needs_background": "light"
          }
        }
      ]
    }
  ],
  "metadata": {
    "colab": {
      "provenance": [],
      "toc_visible": true,
      "include_colab_link": true
    },
    "kernelspec": {
      "display_name": "Python 3",
      "name": "python3"
    },
    "language_info": {
      "name": "python"
    },
    "application/vnd.databricks.v1+notebook": {
      "notebookName": "teste_engenharia_de_dados_v2_222",
      "dashboards": [],
      "notebookMetadata": {
        "pythonIndentUnit": 2,
        "mostRecentlyExecutedCommandWithImplicitDF": {
          "commandId": 2318878547318444,
          "dataframes": [
            "_sqldf"
          ]
        }
      },
      "language": "python",
      "widgets": {},
      "notebookOrigID": 4296185388165014
    }
  },
  "nbformat": 4,
  "nbformat_minor": 0
}